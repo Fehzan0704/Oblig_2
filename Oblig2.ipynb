%matplotlib inline
import pandas as pd
from datetime import datetime
import matplotlib.pyplot as plt
from sklearn.metrics import mean_squared_error
from sklearn.linear_model import LinearRegression
from sklearn.model_selection import train_test_split

# Load historical stock data
url = 'TSLA.csv'
df = pd.read_csv(url)

# Convert 'Date' column to datetime
df["Date"] = pd.to_datetime(df["Date"], format='%Y-%m-%d')

# Display the first few rows of the dataset
df.head()

# Plot stock prices
df.plot.scatter(x='Date', y='Close')

# Drop rows before a specific date
old = (df['Date'] < '2020-01-01')
df.drop(df[old].index, inplace=True)

# Plot stock prices after dropping old data
df.plot.scatter(x='Date', y='Close')

# Train a linear regression model
lr = LinearRegression()
X_train = df[['Date']]
y_train = df['Close']
lr.fit(X_train, y_train)

# Prediction function
def predictPrice(date):
    date = datetime.strptime(date, "%Y-%m-%d")
    date_ordinal = date.toordinal()
    date_index = df.index[df['Date'] == date].tolist()[0]
    
    prediction = lr.predict([[date_ordinal]])[0]
    real = df['Close'].iloc[date_index]
    difference = prediction / real * 100
    
    print(f"Predicted price on {date}: ${prediction:.2f}")
    print(f"Real value on {date}: ${real:.2f}")
    print(f"Score: {difference:.2f}%")
    print("MSE =", mean_squared_error(y_train, lr.predict(X_train)))

# Example prediction
predictPrice("2023-09-25")
