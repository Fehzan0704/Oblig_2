import pandas as pd
from sklearn.model_selection import train_test_split
from sklearn.linear_model import LinearRegression

# Step 1: Research and Documentation
# No code needed for this step

# Step 2: Data Preparation
# 2.1 Load Data
data = pd.read_csv('TESLA.csv')

# 2.2 Data Cleaning
print(data.isnull().sum())
data['Date'] = pd.to_datetime(data['Date'])

# 2.3 Feature Selection
features = ['Date', 'Close']
data = data[features]

# Step 3: Model Training
# 3.1 Split Data
train_data, test_data = train_test_split(data, test_size=0.2, random_state=42)

# 3.2 Choose Algorithm
model = LinearRegression()

# 3.3 Train Model
X_train = train_data[['Date']]
y_train = train_data['Close']
model.fit(X_train, y_train)

# Step 4: Model Evaluation
# No code provided yet for this step

# Additional Steps:
# - Implement prediction and evaluation code
# - Display results and metrics
# - Upload the complete script to GitHub
